{
 "cells": [
  {
   "cell_type": "code",
   "execution_count": 2,
   "metadata": {},
   "outputs": [],
   "source": [
    "import pandas as pd\n",
    "import numpy as np"
   ]
  },
  {
   "cell_type": "code",
   "execution_count": 8,
   "metadata": {},
   "outputs": [],
   "source": [
    "df = pd.read_csv('data/1.txt', header=None, names=['taxi ID', 'date time', 'longitude', 'latitude'])\n",
    "df['date time'] = pd.to_datetime(df['date time'])"
   ]
  },
  {
   "cell_type": "code",
   "execution_count": 9,
   "metadata": {},
   "outputs": [
    {
     "data": {
      "text/html": [
       "<div>\n",
       "<style scoped>\n",
       "    .dataframe tbody tr th:only-of-type {\n",
       "        vertical-align: middle;\n",
       "    }\n",
       "\n",
       "    .dataframe tbody tr th {\n",
       "        vertical-align: top;\n",
       "    }\n",
       "\n",
       "    .dataframe thead th {\n",
       "        text-align: right;\n",
       "    }\n",
       "</style>\n",
       "<table border=\"1\" class=\"dataframe\">\n",
       "  <thead>\n",
       "    <tr style=\"text-align: right;\">\n",
       "      <th></th>\n",
       "      <th>taxi ID</th>\n",
       "      <th>date time</th>\n",
       "      <th>longitude</th>\n",
       "      <th>latitude</th>\n",
       "    </tr>\n",
       "  </thead>\n",
       "  <tbody>\n",
       "    <tr>\n",
       "      <th>0</th>\n",
       "      <td>1</td>\n",
       "      <td>2008-02-02 15:36:08</td>\n",
       "      <td>116.51172</td>\n",
       "      <td>39.92123</td>\n",
       "    </tr>\n",
       "    <tr>\n",
       "      <th>1</th>\n",
       "      <td>1</td>\n",
       "      <td>2008-02-02 15:46:08</td>\n",
       "      <td>116.51135</td>\n",
       "      <td>39.93883</td>\n",
       "    </tr>\n",
       "    <tr>\n",
       "      <th>2</th>\n",
       "      <td>1</td>\n",
       "      <td>2008-02-02 15:46:08</td>\n",
       "      <td>116.51135</td>\n",
       "      <td>39.93883</td>\n",
       "    </tr>\n",
       "    <tr>\n",
       "      <th>3</th>\n",
       "      <td>1</td>\n",
       "      <td>2008-02-02 15:56:08</td>\n",
       "      <td>116.51627</td>\n",
       "      <td>39.91034</td>\n",
       "    </tr>\n",
       "    <tr>\n",
       "      <th>4</th>\n",
       "      <td>1</td>\n",
       "      <td>2008-02-02 16:06:08</td>\n",
       "      <td>116.47186</td>\n",
       "      <td>39.91248</td>\n",
       "    </tr>\n",
       "    <tr>\n",
       "      <th>...</th>\n",
       "      <td>...</td>\n",
       "      <td>...</td>\n",
       "      <td>...</td>\n",
       "      <td>...</td>\n",
       "    </tr>\n",
       "    <tr>\n",
       "      <th>583</th>\n",
       "      <td>1</td>\n",
       "      <td>2008-02-08 15:11:31</td>\n",
       "      <td>116.48347</td>\n",
       "      <td>39.91954</td>\n",
       "    </tr>\n",
       "    <tr>\n",
       "      <th>584</th>\n",
       "      <td>1</td>\n",
       "      <td>2008-02-08 15:21:31</td>\n",
       "      <td>116.50789</td>\n",
       "      <td>39.93128</td>\n",
       "    </tr>\n",
       "    <tr>\n",
       "      <th>585</th>\n",
       "      <td>1</td>\n",
       "      <td>2008-02-08 15:31:31</td>\n",
       "      <td>116.53174</td>\n",
       "      <td>39.91536</td>\n",
       "    </tr>\n",
       "    <tr>\n",
       "      <th>586</th>\n",
       "      <td>1</td>\n",
       "      <td>2008-02-08 15:41:31</td>\n",
       "      <td>116.57156</td>\n",
       "      <td>39.90263</td>\n",
       "    </tr>\n",
       "    <tr>\n",
       "      <th>587</th>\n",
       "      <td>1</td>\n",
       "      <td>2008-02-08 15:51:31</td>\n",
       "      <td>116.54723</td>\n",
       "      <td>39.90841</td>\n",
       "    </tr>\n",
       "  </tbody>\n",
       "</table>\n",
       "<p>588 rows × 4 columns</p>\n",
       "</div>"
      ],
      "text/plain": [
       "     taxi ID           date time  longitude  latitude\n",
       "0          1 2008-02-02 15:36:08  116.51172  39.92123\n",
       "1          1 2008-02-02 15:46:08  116.51135  39.93883\n",
       "2          1 2008-02-02 15:46:08  116.51135  39.93883\n",
       "3          1 2008-02-02 15:56:08  116.51627  39.91034\n",
       "4          1 2008-02-02 16:06:08  116.47186  39.91248\n",
       "..       ...                 ...        ...       ...\n",
       "583        1 2008-02-08 15:11:31  116.48347  39.91954\n",
       "584        1 2008-02-08 15:21:31  116.50789  39.93128\n",
       "585        1 2008-02-08 15:31:31  116.53174  39.91536\n",
       "586        1 2008-02-08 15:41:31  116.57156  39.90263\n",
       "587        1 2008-02-08 15:51:31  116.54723  39.90841\n",
       "\n",
       "[588 rows x 4 columns]"
      ]
     },
     "execution_count": 9,
     "metadata": {},
     "output_type": "execute_result"
    }
   ],
   "source": [
    "df"
   ]
  },
  {
   "cell_type": "code",
   "execution_count": 4,
   "metadata": {},
   "outputs": [
    {
     "name": "stdout",
     "output_type": "stream",
     "text": [
      "Done with file 10357\n",
      "Done with file 10357\n",
      "Done with file 10357\n",
      "Done with file 10357\n",
      "Done with file 10357\n",
      "Done with file 10357\n",
      "Done with file 10357\n",
      "Done with file 10357\n",
      "Done with file 10357\n",
      "Done with file 10357\n",
      "Done with file 10357\n",
      "Done with file 10357\n",
      "Done with file 10357\n",
      "Done with file 10357\n",
      "Done with file 10357\n",
      "Done with file 10357\n",
      "Done with file 10357\n",
      "Done with file 10357\n",
      "Done with file 10357\n",
      "Done with file 10357\n"
     ]
    },
    {
     "ename": "KeyboardInterrupt",
     "evalue": "",
     "output_type": "error",
     "traceback": [
      "\u001b[1;31m---------------------------------------------------------------------------\u001b[0m",
      "\u001b[1;31mKeyboardInterrupt\u001b[0m                         Traceback (most recent call last)",
      "\u001b[1;32mc:\\Users\\jules\\OneDrive - Efrei\\M1\\S7\\Data-Camp\\traffic_congestion\\data_transform.ipynb Cellule 4\u001b[0m in \u001b[0;36m<cell line: 2>\u001b[1;34m()\u001b[0m\n\u001b[0;32m      <a href='vscode-notebook-cell:/c%3A/Users/jules/OneDrive%20-%20Efrei/M1/S7/Data-Camp/traffic_congestion/data_transform.ipynb#W3sZmlsZQ%3D%3D?line=7'>8</a>\u001b[0m     row[\u001b[39m'\u001b[39m\u001b[39mdate time\u001b[39m\u001b[39m'\u001b[39m] \u001b[39m=\u001b[39m pd\u001b[39m.\u001b[39mto_datetime(row[\u001b[39m'\u001b[39m\u001b[39mdate time\u001b[39m\u001b[39m'\u001b[39m])\n\u001b[0;32m      <a href='vscode-notebook-cell:/c%3A/Users/jules/OneDrive%20-%20Efrei/M1/S7/Data-Camp/traffic_congestion/data_transform.ipynb#W3sZmlsZQ%3D%3D?line=8'>9</a>\u001b[0m     hour \u001b[39m=\u001b[39m row[\u001b[39m'\u001b[39m\u001b[39mdate time\u001b[39m\u001b[39m'\u001b[39m]\u001b[39m.\u001b[39mhour\n\u001b[1;32m---> <a href='vscode-notebook-cell:/c%3A/Users/jules/OneDrive%20-%20Efrei/M1/S7/Data-Camp/traffic_congestion/data_transform.ipynb#W3sZmlsZQ%3D%3D?line=9'>10</a>\u001b[0m     \u001b[39mwith\u001b[39;00m \u001b[39mopen\u001b[39;49m(\u001b[39m'\u001b[39;49m\u001b[39mdata/hours/\u001b[39;49m\u001b[39m{}\u001b[39;49;00m\u001b[39mH.txt\u001b[39;49m\u001b[39m'\u001b[39;49m\u001b[39m.\u001b[39;49mformat(hour), \u001b[39m'\u001b[39;49m\u001b[39ma\u001b[39;49m\u001b[39m'\u001b[39;49m) \u001b[39mas\u001b[39;00m f:\n\u001b[0;32m     <a href='vscode-notebook-cell:/c%3A/Users/jules/OneDrive%20-%20Efrei/M1/S7/Data-Camp/traffic_congestion/data_transform.ipynb#W3sZmlsZQ%3D%3D?line=10'>11</a>\u001b[0m         f\u001b[39m.\u001b[39mwrite(\u001b[39mstr\u001b[39m(row[\u001b[39m'\u001b[39m\u001b[39mtaxi ID\u001b[39m\u001b[39m'\u001b[39m]) \u001b[39m+\u001b[39m \u001b[39m'\u001b[39m\u001b[39m,\u001b[39m\u001b[39m'\u001b[39m \u001b[39m+\u001b[39m \u001b[39mstr\u001b[39m(row[\u001b[39m'\u001b[39m\u001b[39mdate time\u001b[39m\u001b[39m'\u001b[39m]) \u001b[39m+\u001b[39m \u001b[39m'\u001b[39m\u001b[39m,\u001b[39m\u001b[39m'\u001b[39m \u001b[39m+\u001b[39m \u001b[39mstr\u001b[39m(row[\u001b[39m'\u001b[39m\u001b[39mlongitude\u001b[39m\u001b[39m'\u001b[39m]) \u001b[39m+\u001b[39m \u001b[39m'\u001b[39m\u001b[39m,\u001b[39m\u001b[39m'\u001b[39m \u001b[39m+\u001b[39m \u001b[39mstr\u001b[39m(row[\u001b[39m'\u001b[39m\u001b[39mlatitude\u001b[39m\u001b[39m'\u001b[39m]) \u001b[39m+\u001b[39m \u001b[39m'\u001b[39m\u001b[39m\\n\u001b[39;00m\u001b[39m'\u001b[39m)\n\u001b[0;32m     <a href='vscode-notebook-cell:/c%3A/Users/jules/OneDrive%20-%20Efrei/M1/S7/Data-Camp/traffic_congestion/data_transform.ipynb#W3sZmlsZQ%3D%3D?line=12'>13</a>\u001b[0m \u001b[39mprint\u001b[39m(\u001b[39m'\u001b[39m\u001b[39mDone with file \u001b[39m\u001b[39m{}\u001b[39;00m\u001b[39m'\u001b[39m\u001b[39m.\u001b[39mformat(i))\n",
      "File \u001b[1;32mc:\\Users\\jules\\anaconda3\\lib\\_bootlocale.py:11\u001b[0m, in \u001b[0;36mgetpreferredencoding\u001b[1;34m(do_setlocale)\u001b[0m\n\u001b[0;32m      8\u001b[0m \u001b[39mimport\u001b[39;00m \u001b[39m_locale\u001b[39;00m\n\u001b[0;32m     10\u001b[0m \u001b[39mif\u001b[39;00m sys\u001b[39m.\u001b[39mplatform\u001b[39m.\u001b[39mstartswith(\u001b[39m\"\u001b[39m\u001b[39mwin\u001b[39m\u001b[39m\"\u001b[39m):\n\u001b[1;32m---> 11\u001b[0m     \u001b[39mdef\u001b[39;00m \u001b[39mgetpreferredencoding\u001b[39m(do_setlocale\u001b[39m=\u001b[39m\u001b[39mTrue\u001b[39;00m):\n\u001b[0;32m     12\u001b[0m         \u001b[39mif\u001b[39;00m sys\u001b[39m.\u001b[39mflags\u001b[39m.\u001b[39mutf8_mode:\n\u001b[0;32m     13\u001b[0m             \u001b[39mreturn\u001b[39;00m \u001b[39m'\u001b[39m\u001b[39mUTF-8\u001b[39m\u001b[39m'\u001b[39m\n",
      "\u001b[1;31mKeyboardInterrupt\u001b[0m: "
     ]
    }
   ],
   "source": [
    "#repeat this code for all the files\n",
    "\n",
    "i = 10357\n",
    "df = pd.read_csv('data/{}.txt'.format(i), header=None, names=['taxi ID', 'date time', 'longitude', 'latitude'])\n",
    "# write each row in the corresponding file\n",
    "for index, row in df.iterrows():\n",
    "    # convert the date time to datetime object\n",
    "    row['date time'] = pd.to_datetime(row['date time'])\n",
    "    hour = row['date time'].hour\n",
    "    with open('data/hours/{}H.txt'.format(hour), 'a') as f:\n",
    "        f.write(str(row['taxi ID']) + ',' + str(row['date time']) + ',' + str(row['longitude']) + ',' + str(row['latitude']) + '\\n')\n",
    "\n",
    "print('Done with file {}'.format(i))"
   ]
  }
 ],
 "metadata": {
  "kernelspec": {
   "display_name": "Python 3.9.12 ('base')",
   "language": "python",
   "name": "python3"
  },
  "language_info": {
   "codemirror_mode": {
    "name": "ipython",
    "version": 3
   },
   "file_extension": ".py",
   "mimetype": "text/x-python",
   "name": "python",
   "nbconvert_exporter": "python",
   "pygments_lexer": "ipython3",
   "version": "3.9.12"
  },
  "orig_nbformat": 4,
  "vscode": {
   "interpreter": {
    "hash": "808eefdcfd682483f91e0e2f741697271570b90e0db4b222855f8c26fcc7a33e"
   }
  }
 },
 "nbformat": 4,
 "nbformat_minor": 2
}
