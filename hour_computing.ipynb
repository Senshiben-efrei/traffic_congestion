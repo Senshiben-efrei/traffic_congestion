{
 "cells": [
  {
   "cell_type": "code",
   "execution_count": 12,
   "metadata": {},
   "outputs": [],
   "source": [
    "# import radians function from math package\n",
    "from math import radians, cos, sin, asin, sqrt, atan2\n",
    "import pandas as pd\n",
    "from sklearn.cluster import KMeans\n",
    "\n",
    "# get distance from latitude and longitude\n",
    "def get_distance(lat1, lon1, lat2, lon2):\n",
    "    R = 6373.0\n",
    "\n",
    "    lat1 = radians(lat1)\n",
    "    lon1 = radians(lon1)\n",
    "    lat2 = radians(lat2)\n",
    "    lon2 = radians(lon2)\n",
    "\n",
    "    dlon = lon2 - lon1\n",
    "    dlat = lat2 - lat1\n",
    "\n",
    "    a = sin(dlat / 2)**2 + cos(lat1) * cos(lat2) * sin(dlon / 2)**2\n",
    "    c = 2 * atan2(sqrt(a), sqrt(1 - a))\n",
    "\n",
    "    distance = R * c\n",
    "    return distance*1000\n",
    "\n",
    "def df_transform(df):\n",
    "    df = df.drop_duplicates()\n",
    "\n",
    "    # limit the data to the area of interest\n",
    "    df = df[(df['longitude'] > 115.875363) & (df['longitude'] < 117.351154) & (df['latitude'] > 39.482463) & (df['latitude'] < 40.315493)]\n",
    "    df.loc[(df['latitude'] == 0) & (df['longitude'] == 0)]\n",
    "\n",
    "    df['distance'] = 0\n",
    "    df['time'] = 0\n",
    "    df['speed'] = 0\n",
    "    for i in range(1, len(df)):\n",
    "        if(df.iloc[i]['taxi ID'] == df.iloc[i-1]['taxi ID']):\n",
    "            df.iloc[i, df.columns.get_loc('distance')] = get_distance(df.iloc[i]['latitude'], df.iloc[i]['longitude'], df.iloc[i-1]['latitude'], df.iloc[i-1]['longitude'])\n",
    "            df.iloc[i, df.columns.get_loc('time')] = (pd.to_datetime(df.iloc[i]['date time']) - pd.to_datetime(df.iloc[i-1]['date time'])).total_seconds()\n",
    "            if df.iloc[i]['time'] > 0:\n",
    "                df.iloc[i, df.columns.get_loc('speed')] = df.iloc[i]['distance'] / df.iloc[i]['time']\n",
    "\n",
    "    return df\n",
    "\n",
    "# apply k-means clustering\n",
    "def kmeans(df, n_clusters):\n",
    "    X = df[['distance', 'longitude', 'latitude', 'speed', 'time']].values\n",
    "    # apply k-means clustering\n",
    "    kmeans = KMeans(n_clusters=3, random_state=0).fit(X)\n",
    "\n",
    "    # get the labels\n",
    "    labels = kmeans.labels_\n",
    "\n",
    "    # # add the labels to the data\n",
    "    df2 = df.copy()\n",
    "    df2['labels'] = labels\n",
    "\n",
    "    return df2\n",
    "\n"
   ]
  },
  {
   "cell_type": "code",
   "execution_count": 14,
   "metadata": {},
   "outputs": [
    {
     "name": "stdout",
     "output_type": "stream",
     "text": [
      "transform ok\n",
      "kmeans ok\n",
      "6\n",
      "9\n"
     ]
    }
   ],
   "source": [
    "start = int(input(\"From: \"))\n",
    "end = int(input(\"To: \"))\n",
    "for hour in range(start, end):\n",
    "    df = pd.read_csv('data/hours/{}H.txt'.format(hour), header=None, names=['taxi ID', 'date time', 'longitude', 'latitude'])  \n",
    "    df = df_transform(df)\n",
    "    print('transform ok')\n",
    "    df = kmeans(df, 3)\n",
    "    print('kmeans ok')\n",
    "    for index, row in df.iterrows():\n",
    "        if(row['labels'] != 0):\n",
    "            print(index)\n",
    "            with open('data/hours/labeled/{}H.txt'.format(hour), 'a') as f:\n",
    "                f.write(str(row['date time']) + ',' + str(row['longitude']) + ',' + str(row['latitude']) + ',' + str(row['labels']) + '\\n')"
   ]
  },
  {
   "cell_type": "code",
   "execution_count": 47,
   "metadata": {},
   "outputs": [
    {
     "data": {
      "image/png": "[encoded data removed]",
      "text/plain": [
       "<Figure size 1152x576 with 1 Axes>"
      ]
     },
     "metadata": {
      "needs_background": "light"
     },
     "output_type": "display_data"
    }
   ],
   "source": [
    "import matplotlib.pyplot as plt\n",
    "%matplotlib inline\n",
    "\n",
    "distortions = []\n",
    "K = range(1,10)\n",
    "for k in K:\n",
    "    kmeanModel = KMeans(n_clusters=k)\n",
    "    kmeanModel.fit(df[['distance', 'longitude', 'latitude', 'speed', 'time']])\n",
    "    distortions.append(kmeanModel.inertia_)\n",
    "\n",
    "plt.figure(figsize=(16,8))\n",
    "plt.plot(K, distortions, 'bx-')\n",
    "plt.xlabel('k')\n",
    "plt.ylabel('Distortion')\n",
    "plt.title('The Elbow Method showing the optimal k')\n",
    "plt.show()"
   ]
  }
 ],
 "metadata": {
  "kernelspec": {
   "display_name": "Python 3.9.12 ('base')",
   "language": "python",
   "name": "python3"
  },
  "language_info": {
   "codemirror_mode": {
    "name": "ipython",
    "version": 3
   },
   "file_extension": ".py",
   "mimetype": "text/x-python",
   "name": "python",
   "nbconvert_exporter": "python",
   "pygments_lexer": "ipython3",
   "version": "3.9.12"
  },
  "orig_nbformat": 4,
  "vscode": {
   "interpreter": {
    "hash": "808eefdcfd682483f91e0e2f741697271570b90e0db4b222855f8c26fcc7a33e"
   }
  }
 },
 "nbformat": 4,
 "nbformat_minor": 2
}
